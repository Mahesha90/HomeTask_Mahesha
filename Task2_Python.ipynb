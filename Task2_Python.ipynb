{
 "cells": [
  {
   "cell_type": "code",
   "execution_count": 21,
   "id": "386c0178-2d5c-4162-bf43-087e85e1cb52",
   "metadata": {},
   "outputs": [],
   "source": [
    "import pandas as pd\n",
    "from datetime import datetime\n",
    "\n",
    "# URLs of the CSV files on GitHub\n",
    "url1 = 'https://raw.githubusercontent.com/Mahesha90/HomeTask_Mahesha/main/data_2023-02-11.csv'\n",
    "url2 = 'https://raw.githubusercontent.com/Mahesha90/HomeTask_Mahesha/main/data_2023-02-12.csv'\n",
    "\n",
    "# Read data from CSV files hosted on GitHub\n",
    "df1 = pd.read_csv(url1)\n",
    "df2 = pd.read_csv(url2)\n"
   ]
  },
  {
   "cell_type": "code",
   "execution_count": 29,
   "id": "31a88eba-ebee-4e28-b93b-f946f8623eea",
   "metadata": {},
   "outputs": [
    {
     "data": {
      "text/html": [
       "<div>\n",
       "<style scoped>\n",
       "    .dataframe tbody tr th:only-of-type {\n",
       "        vertical-align: middle;\n",
       "    }\n",
       "\n",
       "    .dataframe tbody tr th {\n",
       "        vertical-align: top;\n",
       "    }\n",
       "\n",
       "    .dataframe thead th {\n",
       "        text-align: right;\n",
       "    }\n",
       "</style>\n",
       "<table border=\"1\" class=\"dataframe\">\n",
       "  <thead>\n",
       "    <tr style=\"text-align: right;\">\n",
       "      <th></th>\n",
       "      <th>company;metric_id;metric_desc;metric_value;metric_date</th>\n",
       "    </tr>\n",
       "  </thead>\n",
       "  <tbody>\n",
       "    <tr>\n",
       "      <th>0</th>\n",
       "      <td>i-bank;1;active contracts;10000;2023-02-11</td>\n",
       "    </tr>\n",
       "    <tr>\n",
       "      <th>1</th>\n",
       "      <td>i-bank;2;active customers;50000;2023-02-11</td>\n",
       "    </tr>\n",
       "    <tr>\n",
       "      <th>2</th>\n",
       "      <td>i-bank;3;employees count;100;2023-02-11</td>\n",
       "    </tr>\n",
       "    <tr>\n",
       "      <th>3</th>\n",
       "      <td>i-bank;4;active partners;1000;2023-02-11</td>\n",
       "    </tr>\n",
       "    <tr>\n",
       "      <th>4</th>\n",
       "      <td>i-bank;5;unique products;5;2023-02-11</td>\n",
       "    </tr>\n",
       "  </tbody>\n",
       "</table>\n",
       "</div>"
      ],
      "text/plain": [
       "  company;metric_id;metric_desc;metric_value;metric_date\n",
       "0         i-bank;1;active contracts;10000;2023-02-11    \n",
       "1         i-bank;2;active customers;50000;2023-02-11    \n",
       "2            i-bank;3;employees count;100;2023-02-11    \n",
       "3           i-bank;4;active partners;1000;2023-02-11    \n",
       "4              i-bank;5;unique products;5;2023-02-11    "
      ]
     },
     "execution_count": 29,
     "metadata": {},
     "output_type": "execute_result"
    }
   ],
   "source": [
    "df1.head()"
   ]
  },
  {
   "cell_type": "code",
   "execution_count": 30,
   "id": "f3a32d04-6ac4-4116-a8df-3ccdd7ad7270",
   "metadata": {},
   "outputs": [
    {
     "data": {
      "text/html": [
       "<div>\n",
       "<style scoped>\n",
       "    .dataframe tbody tr th:only-of-type {\n",
       "        vertical-align: middle;\n",
       "    }\n",
       "\n",
       "    .dataframe tbody tr th {\n",
       "        vertical-align: top;\n",
       "    }\n",
       "\n",
       "    .dataframe thead th {\n",
       "        text-align: right;\n",
       "    }\n",
       "</style>\n",
       "<table border=\"1\" class=\"dataframe\">\n",
       "  <thead>\n",
       "    <tr style=\"text-align: right;\">\n",
       "      <th></th>\n",
       "      <th>company;metric_id;metric_desc;metric_value;metric_date</th>\n",
       "    </tr>\n",
       "  </thead>\n",
       "  <tbody>\n",
       "    <tr>\n",
       "      <th>0</th>\n",
       "      <td>i-bank;1;active contracts;12000;2023-02-12</td>\n",
       "    </tr>\n",
       "    <tr>\n",
       "      <th>1</th>\n",
       "      <td>i-bank;2;active customers;50500;2023-02-12</td>\n",
       "    </tr>\n",
       "    <tr>\n",
       "      <th>2</th>\n",
       "      <td>i-bank;3;employees count;101;2023-02-12</td>\n",
       "    </tr>\n",
       "    <tr>\n",
       "      <th>3</th>\n",
       "      <td>i-bank;4;active partners;1005;2023-02-12</td>\n",
       "    </tr>\n",
       "    <tr>\n",
       "      <th>4</th>\n",
       "      <td>i-bank;5;unique products;5;2023-02-12</td>\n",
       "    </tr>\n",
       "  </tbody>\n",
       "</table>\n",
       "</div>"
      ],
      "text/plain": [
       "  company;metric_id;metric_desc;metric_value;metric_date\n",
       "0         i-bank;1;active contracts;12000;2023-02-12    \n",
       "1         i-bank;2;active customers;50500;2023-02-12    \n",
       "2            i-bank;3;employees count;101;2023-02-12    \n",
       "3           i-bank;4;active partners;1005;2023-02-12    \n",
       "4              i-bank;5;unique products;5;2023-02-12    "
      ]
     },
     "execution_count": 30,
     "metadata": {},
     "output_type": "execute_result"
    }
   ],
   "source": [
    "df2.head()"
   ]
  },
  {
   "cell_type": "code",
   "execution_count": 31,
   "id": "2785b78e-11de-45f8-8c43-6f2a68b844b7",
   "metadata": {},
   "outputs": [
    {
     "name": "stdout",
     "output_type": "stream",
     "text": [
      "CSV file saved successfully to: C:\\Users\\mahes\\Desktop\\combined_data.csv\n",
      "  company  metric_id       metric_desc  metric_value metric_date_start metric_date_end file_generation_date\n",
      "0  i-bank          1  active contracts         22000        2023-02-11      2023-02-12           2023-02-13\n",
      "1  i-bank          2  active customers        100500        2023-02-11      2023-02-12           2023-02-13\n",
      "2  i-bank          3   employees count           201        2023-02-11      2023-02-12           2023-02-13\n",
      "3  i-bank          4   active partners          2005        2023-02-11      2023-02-12           2023-02-13\n",
      "4  i-bank          5   unique products            10        2023-02-11      2023-02-12           2023-02-13\n"
     ]
    }
   ],
   "source": [
    "#Answer to the question\n",
    "\n",
    "import os\n",
    "import pandas as pd\n",
    "\n",
    "# Read data from the URLs\n",
    "data1_url = \"https://raw.githubusercontent.com/Mahesha90/HomeTask_Mahesha/main/data_2023-02-11.csv\"\n",
    "data2_url = \"https://raw.githubusercontent.com/Mahesha90/HomeTask_Mahesha/main/data_2023-02-12.csv\"\n",
    "\n",
    "# Read datasets\n",
    "data1 = pd.read_csv(data1_url, delimiter=';')\n",
    "data2 = pd.read_csv(data2_url, delimiter=';')\n",
    "\n",
    "# Concatenate datasets\n",
    "combined_data = pd.concat([data1, data2])\n",
    "\n",
    "# Group by 'company', 'metric_id', and 'metric_desc' and aggregate 'metric_value'\n",
    "aggregated_data = combined_data.groupby(['company', 'metric_id', 'metric_desc'], as_index=False)['metric_value'].sum()\n",
    "\n",
    "# Calculate 'metric_date_start' as the minimum metric date for each group\n",
    "aggregated_data['metric_date_start'] = combined_data.groupby(['company', 'metric_id', 'metric_desc'])['metric_date'].min().reset_index(drop=True)\n",
    "\n",
    "# Calculate 'metric_date_end' as the maximum metric date for each group\n",
    "aggregated_data['metric_date_end'] = combined_data.groupby(['company', 'metric_id', 'metric_desc'])['metric_date'].max().reset_index(drop=True)\n",
    "\n",
    "# Calculate 'file_generation_date' as the next date after 'metric_date_end'\n",
    "data2_dates = pd.to_datetime(data2['metric_date'])\n",
    "next_date = data2_dates + pd.DateOffset(days=1)\n",
    "aggregated_data['file_generation_date'] = next_date.dt.strftime('%Y-%m-%d')\n",
    "\n",
    "# Specify the directory path where you want to save the file. Replace 'YourUsername' with your actual username\n",
    "output_directory = r'C:\\Users\\mahes\\Desktop' \n",
    "\n",
    "# Ensure the directory exists, if not create it\n",
    "if not os.path.exists(output_directory):\n",
    "    os.makedirs(output_directory)\n",
    "\n",
    "# Specify the path where you want to save the file\n",
    "output_file_path = os.path.join(output_directory, 'combined_data.csv')\n",
    "\n",
    "# Save the DataFrame to a CSV file at the specified path\n",
    "aggregated_data.to_csv(output_file_path, index=False)\n",
    "\n",
    "print(\"CSV file saved successfully to:\", output_file_path)\n",
    "# Display the final combined dataset\n",
    "print(aggregated_data)"
   ]
  },
  {
   "cell_type": "code",
   "execution_count": null,
   "id": "68623cd0-0072-4273-84c3-6b32283314ad",
   "metadata": {},
   "outputs": [],
   "source": []
  }
 ],
 "metadata": {
  "kernelspec": {
   "display_name": "Python 3 (ipykernel)",
   "language": "python",
   "name": "python3"
  },
  "language_info": {
   "codemirror_mode": {
    "name": "ipython",
    "version": 3
   },
   "file_extension": ".py",
   "mimetype": "text/x-python",
   "name": "python",
   "nbconvert_exporter": "python",
   "pygments_lexer": "ipython3",
   "version": "3.11.7"
  }
 },
 "nbformat": 4,
 "nbformat_minor": 5
}
